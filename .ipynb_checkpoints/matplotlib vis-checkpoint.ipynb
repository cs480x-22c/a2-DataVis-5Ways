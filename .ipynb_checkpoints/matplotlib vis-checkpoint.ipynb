{
 "cells": [
  {
   "cell_type": "code",
   "execution_count": 1,
   "id": "5e5c8931",
   "metadata": {},
   "outputs": [
    {
     "data": {
      "image/png": "[encoded data removed]",
      "text/plain": [
       "<Figure size 432x288 with 2 Axes>"
      ]
     },
     "metadata": {
      "needs_background": "light"
     },
     "output_type": "display_data"
    }
   ],
   "source": [
    "import pandas as pd\n",
    "df = pd.read_csv(\"cars-sample.csv\")\n",
    "\n",
    "def mapColor(m):\n",
    "    if m == \"ford\":\n",
    "        return (.75, .75, .45, .75) \n",
    "    elif m == \"toyota\":\n",
    "        return (.95, .65, .95, .75)\n",
    "    elif m == \"bmw\":\n",
    "        return (.95, .70, .70, .75) \n",
    "    elif m == \"honda\":\n",
    "        return (.55, .85, .75, .75) \n",
    "    elif m == \"mercedes\":\n",
    "        return (.60, .80, .95, .75)\n",
    "    \n",
    "color = df.Manufacturer.apply(lambda x: mapColor(x))\n",
    "size = df.Weight.apply(lambda x: x / 25)\n",
    "\n",
    "import matplotlib.pyplot as plt\n",
    "fig, axes = plt.subplot(1, 1);\n",
    "plt.scatter(df.Weight, df.MPG, color=color, s=size)\n",
    "plt.xlabel(\"Weight\")\n",
    "plt.xlim(1600, 5100)\n",
    "plt.xticks(ticks=[2000, 3000, 4000, 5000])\n",
    "plt.ylabel(\"MPG\")\n",
    "plt.ylim(9, 46)\n",
    "plt.yticks(ticks=[10, 20, 30, 40])\n",
    "plt.show()"
   ]
  },
  {
   "cell_type": "code",
   "execution_count": null,
   "id": "e77ce09a",
   "metadata": {},
   "outputs": [],
   "source": []
  }
 ],
 "metadata": {
  "kernelspec": {
   "display_name": "Python 3 (ipykernel)",
   "language": "python",
   "name": "python3"
  },
  "language_info": {
   "codemirror_mode": {
    "name": "ipython",
    "version": 3
   },
   "file_extension": ".py",
   "mimetype": "text/x-python",
   "name": "python",
   "nbconvert_exporter": "python",
   "pygments_lexer": "ipython3",
   "version": "3.9.7"
  }
 },
 "nbformat": 4,
 "nbformat_minor": 5
}
